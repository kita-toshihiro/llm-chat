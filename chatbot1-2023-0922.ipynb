{
 "cells": [
  {
   "cell_type": "code",
   "execution_count": null,
   "id": "7d2c55eb-ca7b-4bc7-8fc7-3fbd6d02ebe3",
   "metadata": {},
   "outputs": [],
   "source": [
    "import gradio\n",
    "import openai\n",
    "with open(\"../keys/openai-key.txt\", \"r\") as file:\n",
    "    openai.api_key = file.read().strip()\n",
    "model0 =\"gpt-4o-2024-08-06\""
   ]
  },
  {
   "cell_type": "code",
   "execution_count": null,
   "id": "82a13fb0-29a6-48c4-90ed-f417e1faa199",
   "metadata": {},
   "outputs": [],
   "source": [
    "def chat1(user_message, history):   \n",
    "    messages = []  # historyをGPTに送信するためのリスト\n",
    "    # 既存のチャット履歴をmessagesに追加\n",
    "    for user_msg, assistant_msg in history:\n",
    "        messages.append({\"role\": \"user\", \"content\": user_msg})\n",
    "        messages.append({\"role\": \"assistant\", \"content\": assistant_msg})\n",
    "    prompt1 = user_message\n",
    "\n",
    "    messages.append({\"role\": \"user\", \"content\": prompt1})\n",
    "    # GPT APIを呼び出して返答を得る\n",
    "    response = openai.ChatCompletion.create(\n",
    "        model = model0,\n",
    "        messages = messages\n",
    "    )\n",
    "    assistant_message = response['choices'][0]['message']['content'] # 返答を取得 \n",
    "    return assistant_message"
   ]
  },
  {
   "cell_type": "code",
   "execution_count": null,
   "id": "03e7b42f-9eeb-4463-a5f5-10d78d1547fd",
   "metadata": {},
   "outputs": [],
   "source": [
    "gradio.ChatInterface(\n",
    "    fn = chat1, \n",
    "    title = \"AIチャットの例（人材開発DX講座用デモ）\",\n",
    "    description = f\"人材育成で困っていることなど、なにか相談や質問を入力して送信してもらうと（数十秒間考えた後に）答えが返ってきます。(model:{model0})\",\n",
    "    submit_btn = \"送信\",\n",
    "    examples=[\n",
    "        [\"IT人材を社内で育成するコツは？\"], \n",
    "        [\"オンボーディングが、なかなか効果が上がらないので困っています。\"],\n",
    "    ],\n",
    ").launch(\n",
    "    server_name = \"xxxx.jp\",\n",
    "    server_port = 6677,\n",
    "    ssl_certfile = \"cert.pem\",\n",
    "    ssl_keyfile = \"privkey.pem\",\n",
    "    ssl_verify = False,\n",
    ")"
   ]
  }
 ],
 "metadata": {
  "kernelspec": {
   "display_name": "Python 3 (ipykernel)",
   "language": "python",
   "name": "python3"
  },
  "language_info": {
   "codemirror_mode": {
    "name": "ipython",
    "version": 3
   },
   "file_extension": ".py",
   "mimetype": "text/x-python",
   "name": "python",
   "nbconvert_exporter": "python",
   "pygments_lexer": "ipython3",
   "version": "3.9.13"
  },
  "toc-showcode": false
 },
 "nbformat": 4,
 "nbformat_minor": 5
}
